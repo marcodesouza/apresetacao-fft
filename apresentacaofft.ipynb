{
 "cells": [
  {
   "cell_type": "markdown",
   "metadata": {},
   "source": [
    "# Tranformada de Fourier"
   ]
  },
  {
   "cell_type": "markdown",
   "metadata": {},
   "source": [
    "Implementação de uma função que calcula o Transformada de Fourier em um Sinal.\n",
    "\n",
    "**Entrada**\n",
    "- **x** - Sinal de entrada\n",
    "- **Fs** - Frequência de Amostragem do sinal\n",
    "\n",
    "**Retorno**\n",
    "- **X** - módulo do sinal no domínio da frequência\n",
    "- **freq** - vetor de frequências (eixo x)\n",
    "\n"
   ]
  },
  {
   "cell_type": "code",
   "execution_count": 46,
   "metadata": {
    "collapsed": false
   },
   "outputs": [],
   "source": [
    "# as linha a seguir são necessárias apenas neste documento\n",
    "\n",
    "# muda a codificação para utf-8 permitindo acentuações nos gráficos\n",
    "import sys\n",
    "reload(sys)\n",
    "sys.setdefaultencoding(\"utf-8\")\n",
    "\n",
    "# força os gráficos a serem incluidos neste pagina e não em popup\n",
    "%matplotlib inline \n",
    "\n",
    "from IPython.display import Image\n",
    "\n",
    "# desabilita warnings\n",
    "import warnings\n",
    "warnings.filterwarnings('ignore')\n"
   ]
  },
  {
   "cell_type": "code",
   "execution_count": 20,
   "metadata": {
    "collapsed": true
   },
   "outputs": [],
   "source": [
    "import numpy as np\n",
    "import matplotlib.pyplot as plt"
   ]
  },
  {
   "cell_type": "markdown",
   "metadata": {},
   "source": [
    "<br>\n",
    "Seta a frequência de Amostrage (Fs), para este exemplo 1000 amostras"
   ]
  },
  {
   "cell_type": "code",
   "execution_count": 4,
   "metadata": {
    "collapsed": true
   },
   "outputs": [],
   "source": [
    "Fs=1000"
   ]
  },
  {
   "cell_type": "markdown",
   "metadata": {},
   "source": [
    "<br>\n",
    "Define o vetor de tempo (t) para plotar uma senoide de 0 a 5 segundos, com um passo de 1/Fs (0.001).<br>\n",
    "O tamanho do passo é a própria Frequencia de Amostragem (Fs)\n"
   ]
  },
  {
   "cell_type": "code",
   "execution_count": 16,
   "metadata": {
    "collapsed": true
   },
   "outputs": [],
   "source": [
    "t=np.arange(0, 5, 1.0/Fs)"
   ]
  },
  {
   "cell_type": "markdown",
   "metadata": {},
   "source": [
    "<br>\n",
    "Define um conjunto de senoides _x1_, _x2_, _x3_, _x4_"
   ]
  },
  {
   "cell_type": "code",
   "execution_count": 45,
   "metadata": {
    "collapsed": true
   },
   "outputs": [],
   "source": [
    "PI=np.pi\n",
    "x1=np.sin(2*PI*20*t)     #amplitude 1, frequencia 20Hz\n",
    "x2=2*np.sin(2*PI*60*t)   #amplitude 2, frequencia 60Hz\n",
    "x3=20*np.sin(2*PI*200*t) #amplitude 20, frequencia 200Hz\n",
    "x4=15*np.sin(2*PI*350*t) #amplitude 15, frequencia 350Hz"
   ]
  },
  {
   "cell_type": "markdown",
   "metadata": {},
   "source": [
    "<br>\n",
    "Forma um sinal composto em _x_"
   ]
  },
  {
   "cell_type": "code",
   "execution_count": null,
   "metadata": {
    "collapsed": true
   },
   "outputs": [],
   "source": [
    "x=x1+x2+x3+x4"
   ]
  },
  {
   "cell_type": "markdown",
   "metadata": {},
   "source": [
    "<br>\n",
    "Gráfico individual das senoides"
   ]
  },
  {
   "cell_type": "markdown",
   "metadata": {
    "collapsed": false
   },
   "source": [
    "\n",
    "| ![Alt text](images/ondax1.png \"Onda 1\") | ![Alt text](images/ondax2.png \"Onda 2\") |\n",
    "|---|---|\n",
    "| ![Alt text](images/ondax3.png \"Onda 3\") | ![Alt text](images/ondax4.png \"Onda 4\") |\n"
   ]
  },
  {
   "cell_type": "markdown",
   "metadata": {},
   "source": [
    "<br>\n",
    "Sinal Resultante"
   ]
  },
  {
   "cell_type": "markdown",
   "metadata": {},
   "source": [
    "| ![Alt text](images/ondaresultante.png \"Onda Resultante\") |\n",
    "|:---:|\n",
    "| Soma das Senoide **x1**  **x2**  **x3**  e  **x4** |\n"
   ]
  },
  {
   "cell_type": "markdown",
   "metadata": {},
   "source": [
    "<br>\n",
    "Definição da função **fftf()** que recebe dois parâmetros: **x** que é o sinal a ser avaliado e **Fs** que representa a Frequência de Amostragem"
   ]
  },
  {
   "cell_type": "code",
   "execution_count": 18,
   "metadata": {
    "collapsed": false
   },
   "outputs": [],
   "source": [
    "def fftf(x, Fs):\n",
    "   N=len(x) \n",
    "   k=np.arange(0, N-1)\n",
    "   T=N/Fs\n",
    "   freq = k/T\n",
    "   X=np.fft.fftn(x)/N  # X é o sinal transformado\n",
    "   cutOff=np.ceil(N/2) # especifica uma frequência de corte\n",
    "   X=X[1:int(cutOff)]\n",
    "   plt.plot(freq[1:int(cutOff)],np.abs(X))\n",
    "   plt.title('Espectro de Frequência')\n",
    "   plt.xlabel('Frequência (Hz)')\n",
    "   plt.ylabel('Amplitude')\n",
    "   plt.show()"
   ]
  },
  {
   "cell_type": "markdown",
   "metadata": {},
   "source": [
    "<br>\n",
    "Chamanda da função"
   ]
  },
  {
   "cell_type": "code",
   "execution_count": 19,
   "metadata": {
    "collapsed": false
   },
   "outputs": [
    {
     "data": {
      "image/png": "[encoded data removed]",
      "text/plain": [
       "<matplotlib.figure.Figure at 0x7f261bfe48d0>"
      ]
     },
     "metadata": {},
     "output_type": "display_data"
    }
   ],
   "source": [
    "fftf(x, Fs)"
   ]
  },
  {
   "cell_type": "markdown",
   "metadata": {},
   "source": [
    "<br>\n",
    "Como resultado o gráfico mostra a decomposição do sinal analisado (vetor **x**) indicando suas componentes. Os picos que aparecem no gráfico são dos quatro sinais **x1**  **x2**  **x3**  e  **x4** com suas respectivas Frequências."
   ]
  },
  {
   "cell_type": "markdown",
   "metadata": {},
   "source": [
    "## Uma Solução em busca de um problema"
   ]
  },
  {
   "cell_type": "markdown",
   "metadata": {},
   "source": [
    "O problema: como caracterizar a saida da rede?"
   ]
  },
  {
   "cell_type": "code",
   "execution_count": 28,
   "metadata": {
    "collapsed": false
   },
   "outputs": [
    {
     "data": {
      "image/png": "[encoded data removed]",
      "text/plain": [
       "<IPython.core.display.Image object>"
      ]
     },
     "execution_count": 28,
     "metadata": {},
     "output_type": "execute_result"
    }
   ],
   "source": [
    "Image(\"images/analiseNeuronalSYS.png\")"
   ]
  },
  {
   "cell_type": "markdown",
   "metadata": {},
   "source": [
    "<br>\n",
    "## Análise "
   ]
  },
  {
   "cell_type": "markdown",
   "metadata": {},
   "source": [
    "em análise..."
   ]
  },
  {
   "cell_type": "markdown",
   "metadata": {},
   "source": [
    "## Código Completo"
   ]
  },
  {
   "cell_type": "markdown",
   "metadata": {},
   "source": [
    "```python\n",
    "\n",
    "# -*- coding: utf-8 -*-\n",
    "\"\"\"\n",
    "Spyder Editor\n",
    "\n",
    "T.Fourier portado do matlab seguindo o video\n",
    "https://www.youtube.com/watch?v=BT0FTkCEwPg\n",
    "\n",
    "by Marco 11/07/2016\n",
    "\"\"\"\n",
    "\n",
    "import numpy as np\n",
    "import matplotlib.pyplot as plt\n",
    "\n",
    "Fs=1000 \n",
    "t=np.arange(0.0, 5.0, 1.0/Fs)\n",
    "PI=np.pi\n",
    "\n",
    "x1=np.sin(2*PI*20*t)\n",
    "x2=2*np.sin(2*PI*60*t)\n",
    "x3=20*np.sin(2*PI*200*t)\n",
    "x4=15*np.sin(2*PI*350*t)\n",
    "\n",
    "x=x1+x2+x3+x4\n",
    "\n",
    "def fftf(x, Fs):\n",
    "   \"\"\"\n",
    "   Faz a Transformada de Fourier em um Sinal\n",
    "   x - sinal de entrada\n",
    "   Fs - Frequência de Amostragem do sinal\n",
    "   retorna: \n",
    "     X - módulo do sinal o domínio da frequência\n",
    "     freq - vetor de frequências (eixo x)\n",
    "   \"\"\"\n",
    "   N=len(x) \n",
    "   k=np.arange(0, N-1)\n",
    "   T=N/Fs\n",
    "   freq = k/T\n",
    "   X=np.fft.fftn(x)/N\n",
    "   cutOff=np.ceil(N/2)\n",
    "   X=X[1:int(cutOff)]\n",
    "   plt.plot(freq[1:int(cutOff)],np.abs(X))\n",
    "   plt.title('Espectro de Frequencia')\n",
    "   plt.xlabel('Frequencia (Hz)')\n",
    "   plt.ylabel('Amplitude')\n",
    "   plt.show()\n",
    "\n",
    "# chama a função\n",
    "fftf(x, Fs)\n",
    "\n",
    "```"
   ]
  },
  {
   "cell_type": "code",
   "execution_count": null,
   "metadata": {
    "collapsed": true
   },
   "outputs": [],
   "source": []
  },
  {
   "cell_type": "markdown",
   "metadata": {},
   "source": [
    "## Versão"
   ]
  },
  {
   "cell_type": "code",
   "execution_count": null,
   "metadata": {
    "collapsed": false
   },
   "outputs": [],
   "source": []
  }
 ],
 "metadata": {
  "kernelspec": {
   "display_name": "Python [Root]",
   "language": "python",
   "name": "Python [Root]"
  },
  "language_info": {
   "codemirror_mode": {
    "name": "ipython",
    "version": 2
   },
   "file_extension": ".py",
   "mimetype": "text/x-python",
   "name": "python",
   "nbconvert_exporter": "python",
   "pygments_lexer": "ipython2",
   "version": "2.7.12"
  },
  "widgets": {
   "state": {},
   "version": "1.1.1"
  }
 },
 "nbformat": 4,
 "nbformat_minor": 0
}
