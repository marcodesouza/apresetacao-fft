{
 "cells": [
  {
   "cell_type": "markdown",
   "metadata": {
    "nbpresent": {
     "id": "69a45e00-ad8d-49b3-92f7-682aa765bca9"
    }
   },
   "source": [
    "# Análise de Fourier \n",
    "__Marco Antonio Silveira de Souza__ <br>\n",
    "Universidade Federal de Santa Catarina - UFSC <br>\n",
    "Laboratório de Neuroengenharia Computacional - NeuroLab <br>\n",
    "<br>\n",
    "<br>\n",
    "<br>\n",
    "<br>\n",
    "<br>\n",
    "<br>\n",
    "<img src=\"images/ufsc-logo-3.png\" width=170 height=170/>"
   ]
  },
  {
   "cell_type": "markdown",
   "metadata": {
    "nbpresent": {
     "id": "57907280-cab5-429b-99c9-11141c417a39"
    }
   },
   "source": [
    "###### Análise de Fourier\n",
    " - família de técnicas matemáticas: FS, TF, DFT(FFT), DTFT\n",
    " - baseadas na decomposição de sinais em senóides.\n",
    " - amplamente usado para tratamento de sinais digitalizados.\n",
    " - algumas aplicações\n",
    "   - processmaneto de sinais (audio, rádio fequência)\n",
    "   - tratamento de imagens\n",
    " "
   ]
  },
  {
   "cell_type": "markdown",
   "metadata": {
    "nbpresent": {
     "id": "392472fa-28cf-4207-9575-75731d17a327"
    }
   },
   "source": [
    "###### Motivação para uso da Análise de Fourier no Neurolab\n",
    "\n",
    "- Análise de séries temporais\n",
    "- Novos desafios\n",
    " "
   ]
  },
  {
   "cell_type": "markdown",
   "metadata": {
    "nbpresent": {
     "id": "80fc6b73-5ec5-47b4-baa0-b35c618eb3c8"
    }
   },
   "source": [
    "###### Histórico\n",
    "__Jean-Baptiste Joseph Fourier (1768-1830)__\n",
    "  - O primeiro a estudar sistematicamente o uso de séries para representar funções periódicas <br>\n",
    "  - Hoje levam o nome de _Série de Fourier_<br>\n",
    "  - Nascem de seu trabalho sobre a condução do calor (1807).<br>\n",
    "\n",
    "<img src=\"images/Joseph_Fourier.jpg\" width=170 height=170/>"
   ]
  },
  {
   "cell_type": "markdown",
   "metadata": {
    "nbpresent": {
     "id": "d1aecdcf-3a30-4ca9-b254-d13f216eb4ac"
    }
   },
   "source": [
    "###### Definição Serie de Fourier\n",
    "__Ideia geral__: representar uma função **periódica** por uma soma de senoides\n",
    "***\n",
    "_Definição Formal_\n",
    "$$ f(x) = a_0+a_1cos(\\omega_0t)+ b_1sen(\\omega_0t)+a_2cos(2\\omega_0t)+b_2sen(2\\omega_0t)+...$$\n",
    "$$ ou $$\n",
    "$$ f(x) = a_0 +\\sum_{k=0}^\\infty [a_kcos(k\\omega_0t) + b_ksen(k\\omega_0t)]$$\n"
   ]
  },
  {
   "cell_type": "markdown",
   "metadata": {
    "nbpresent": {
     "id": "1fec1be2-3334-4e51-b69d-bfce6426f41a"
    }
   },
   "source": [
    "__Exemplo__\n",
    "\n",
    "| ![Alt text](images/ondax1.png \"Onda 1\") | ![Alt text](images/ondax2.png \"Onda 2\") |\n",
    "|---|---|\n",
    "| ![Alt text](images/ondax3.png \"Onda 3\") | ![Alt text](images/ondax4.png \"Onda 4\") |\n",
    "\n",
    "<img src=\"images/ondaresultante.png\" width=400 height=400/>\n"
   ]
  },
  {
   "cell_type": "markdown",
   "metadata": {
    "nbpresent": {
     "id": "b778e677-f5b3-4747-8861-a8998cc9eda8"
    }
   },
   "source": [
    "__Exemplo__\n",
    "<img src=\"images/Synthesis_square.gif\" width=600 height=600/>\n"
   ]
  },
  {
   "cell_type": "markdown",
   "metadata": {
    "nbpresent": {
     "id": "ee34d693-46f7-40e7-8e8b-b3a34bb730c4"
    }
   },
   "source": [
    "###### Dominio do Tempo e Frequência\n",
    " - alternativa de análise de um sinal\n",
    " - consequência dos trabalhos de Fourier\n",
    "<img src=\"images/sFFT5.png\" width=700 height=700/>"
   ]
  },
  {
   "cell_type": "markdown",
   "metadata": {
    "nbpresent": {
     "id": "f692c2b9-4593-4cb5-acb9-d46ba6102a54"
    }
   },
   "source": [
    "###### Análise de Sinais Não periódicos\n",
    "- **Integral de Fourier** alternativa a Série de Fourier para análise de sinais não periódicos\n"
   ]
  },
  {
   "cell_type": "markdown",
   "metadata": {
    "nbpresent": {
     "id": "c9ce9062-9aac-4547-9bbd-8571cd8baf40"
    }
   },
   "source": [
    "###### Análise de Sinais Não periódicos\n",
    "- principal ferramenta para este propósito\n",
    "$$ \n",
    "F(\\omega)=\\int_{-\\infty}^\\infty f(t)e^{-i\\omega t} dt \\qquad f(t)=\\frac{1}{2\\pi}\\int_{-\\infty}^\\infty F(\\omega)e^{i\\omega t}d\\omega\n",
    "$$\n",
    "\n",
    "<img src=\"images/sFFT5.png\" width=450 height=450/>"
   ]
  },
  {
   "cell_type": "markdown",
   "metadata": {
    "nbpresent": {
     "id": "b963606e-bc23-4277-b5b1-7b6e6e5cff28"
    }
   },
   "source": [
    "##### Transformada Discreta de Fourier (DFT)\n",
    " - Variação da Transformada de Fourier para conjuntos finitos de dados discretos\n",
    "<img src=\"images/amostras.png\" width=600 height=600/> \n"
   ]
  },
  {
   "cell_type": "markdown",
   "metadata": {
    "nbpresent": {
     "id": "5967c199-f9d8-4ae5-a4cc-0260375ffa80"
    }
   },
   "source": [
    "###### Problema com a DFT \n",
    " - exigente em termos computacionais\n",
    " <img src=\"images/analiseDFT.png\" width=400 height=400/> "
   ]
  },
  {
   "cell_type": "markdown",
   "metadata": {
    "nbpresent": {
     "id": "dfbbb4d7-ce37-4fd4-a890-d089efb257f2"
    }
   },
   "source": [
    "######  Algoritmo FFT\n",
    "- Fast Fourrier Transform, a solução para o problema com a DFT\n",
    "- Algoritmo de Cooley–Tukey (1965)\n",
    " - James Cooley e John Tukey\n",
    "- Top 10 Algorithms of 20th Century by the IEEE journal Computing in Science & Engineering\n",
    "- disponível na maioria ds linguagens de programação atuais"
   ]
  },
  {
   "cell_type": "markdown",
   "metadata": {
    "nbpresent": {
     "id": "87436fef-18d8-4bdb-950e-e3e4b4784dcb"
    }
   },
   "source": [
    "###### Desempenho FFT x DFT\n",
    "para 50 amostras é 10x mais rápido do que a DFT\n",
    "\n",
    "<img src=\"images/analiseDFT2.png\" width=400 height=400/> "
   ]
  },
  {
   "cell_type": "markdown",
   "metadata": {
    "nbpresent": {
     "id": "f97e6182-fb83-45c5-9e31-0887f68d540c"
    }
   },
   "source": [
    "###### Resumo\n",
    "<img src=\"images/resumo_analiseFourier2.png\" width=600 height=600/> "
   ]
  },
  {
   "cell_type": "markdown",
   "metadata": {
    "nbpresent": {
     "id": "89c2727c-cc5c-426e-9eaf-ce600c5bb2c3"
    }
   },
   "source": [
    "```python\n",
    "# exemplo implementação FFT em Python\n",
    "import matplotlib.pyplot as plt\n",
    "Fs=1000 \n",
    "t=np.arange(0.0, 5.0, 1.0/Fs)\n",
    "PI=np.pi\n",
    "\n",
    "x1=np.sin(2*PI*20*t)\n",
    "x2=2*np.sin(2*PI*60*t)\n",
    "x3=20*np.sin(2*PI*200*t)\n",
    "x4=15*np.sin(2*PI*350*t)\n",
    "\n",
    "x=x1+x2+x3+x4\n",
    "\n",
    "def fftf(x, Fs):\n",
    "   N=len(x) \n",
    "   k=np.arange(0, N-1)\n",
    "   T=N/Fs\n",
    "   freq = k/T\n",
    "   X=np.fft.fftn(x)/N\n",
    "   cutOff=np.ceil(N/2)\n",
    "   X=X[1:int(cutOff)]\n",
    "   plt.plot(freq[1:int(cutOff)],np.abs(X))\n",
    "   plt.title('Espectro de Frequencia')\n",
    "   plt.xlabel('Frequencia (Hz)')\n",
    "   plt.ylabel('Amplitude')\n",
    "   plt.show()\n",
    "\n",
    "# chamada a função\n",
    "fftf(x, Fs)\n",
    "\n",
    "```"
   ]
  },
  {
   "cell_type": "markdown",
   "metadata": {
    "nbpresent": {
     "id": "1a1c2a18-3e62-4f32-bbaa-4207037efcc6"
    }
   },
   "source": [
    "###### Exemplo 1 - contínuo no tempo\n",
    "\n",
    "<table  border=\"0\">\n",
    "<tr>\n",
    "    <td> <img src=\"images/ondaresultante.png\" alt=\"Drawing\" style=\"width: 400px;\"/> </td>\n",
    "    <td> <img src=\"images/fft1.png\" alt=\"Drawing\" style=\"width: 400px;\"/> </td>\n",
    "</tr>\n",
    "</table>"
   ]
  },
  {
   "cell_type": "markdown",
   "metadata": {
    "nbpresent": {
     "id": "52c288b3-9124-4056-9bbd-863cd47832a4"
    }
   },
   "source": [
    "###### Exemplo 2 - Manchas Solares \n",
    "Série Temporal das Manchas Solares de 1700-2015 e sua Transformada (implementação em outro slide)\n",
    "\n",
    "<table  border=\"0\">\n",
    "<tr>\n",
    "    <td> <img src=\"images/serieTemporalManchasSolares.png\" alt=\"Drawing\" style=\"width: 400px;\"/> </td>\n",
    "    <td> <img src=\"images/FFTmanchasSolares.png\" alt=\"Drawing\" style=\"width: 400px;\"/> </td>\n",
    "</tr>\n",
    "</table>\n",
    "\n",
    "O gráfico indica um pico na frequência de aproximdamente 0,09 ciclos/ano, corresponde a 1/0.09 = 11,11 anos confirmando a estimatia de Wolf\n",
    "\n"
   ]
  },
  {
   "cell_type": "markdown",
   "metadata": {
    "nbpresent": {
     "id": "2c6b7881-b78d-4978-a8dc-a003561ba9dc"
    }
   },
   "source": [
    "###### Exemplo 3 - Vibração e Ruído\n",
    "<img src=\"images/exemplo3fft.png\" width=400 height=400/>\n"
   ]
  },
  {
   "cell_type": "markdown",
   "metadata": {
    "nbpresent": {
     "id": "ea4466b0-b6db-4225-a524-1973daad67a0"
    }
   },
   "source": [
    "##### Exemplo 4 - Sincronização de Neurônios\n",
    "Sincronia $\\Rightarrow$ de fase"
   ]
  },
  {
   "cell_type": "markdown",
   "metadata": {
    "nbpresent": {
     "id": "d49b30e1-dfd0-49cd-91ad-ff507ee4aecc"
    }
   },
   "source": [
    "###### Uma solução em Busca de um Problema\n",
    "- O problema: como caracterizar a saida da rede?\n",
    "- Desafios: ajuste de parâmetros aos dados atuais\n",
    "\n",
    "<img src=\"images/analiseNeuronalSYS.png\" width=600 height=600/>"
   ]
  },
  {
   "cell_type": "markdown",
   "metadata": {
    "nbpresent": {
     "id": "47e44fd2-fa8d-4c97-abc6-2e134002f6e1"
    }
   },
   "source": [
    "\n",
    "###### FFT aplicado aos dados da Camada II-III\n",
    "\n",
    "<img src=\"images/fftPadrao1.png\" width=600 height=600/>\n"
   ]
  },
  {
   "cell_type": "markdown",
   "metadata": {
    "nbpresent": {
     "id": "61507353-3153-4830-ae66-9c517825d9bb"
    }
   },
   "source": [
    "###### Conclusão\n",
    " - Técnica promissora para nossas necessidades<br>\n",
    " - Relativamente fácil de usar<br>\n",
    "  - exige um conhecimento claro de seus dados\n",
    "  - ajuste de parametros para aplicar o algoritmo\n",
    "\n",
    " \n",
    "\n"
   ]
  },
  {
   "cell_type": "markdown",
   "metadata": {
    "collapsed": true,
    "nbpresent": {
     "id": "cc8ee105-3ecc-46f8-b139-34dc4e0cfdef"
    }
   },
   "source": [
    "## Fim"
   ]
  },
  {
   "cell_type": "code",
   "execution_count": null,
   "metadata": {
    "collapsed": true,
    "nbpresent": {
     "id": "cfd7e110-bb84-43f2-956e-b66f600cf535"
    }
   },
   "outputs": [],
   "source": []
  }
 ],
 "metadata": {
  "kernelspec": {
   "display_name": "Python [Root]",
   "language": "python",
   "name": "Python [Root]"
  },
  "language_info": {
   "codemirror_mode": {
    "name": "ipython",
    "version": 2
   },
   "file_extension": ".py",
   "mimetype": "text/x-python",
   "name": "python",
   "nbconvert_exporter": "python",
   "pygments_lexer": "ipython2",
   "version": "2.7.12"
  },
  "nbpresent": {
   "slides": {
    "02cbba57-7535-4d66-b450-9d9ae184617b": {
     "id": "02cbba57-7535-4d66-b450-9d9ae184617b",
     "prev": "51bd331b-844f-4faa-9afd-faa8daea8109",
     "regions": {
      "23775792-9378-424a-9595-b328ca181fac": {
       "attrs": {
        "height": 0.8,
        "width": 0.8,
        "x": 0.1,
        "y": 0.1
       },
       "content": {
        "cell": "b963606e-bc23-4277-b5b1-7b6e6e5cff28",
        "part": "whole"
       },
       "id": "23775792-9378-424a-9595-b328ca181fac"
      }
     }
    },
    "06392584-3672-4abc-a90a-82d2e2eb053e": {
     "id": "06392584-3672-4abc-a90a-82d2e2eb053e",
     "prev": "e7a78249-a455-4b21-9aa5-3203d90602ba",
     "regions": {
      "51238077-1982-4e06-9e39-4948a5d245ec": {
       "attrs": {
        "height": 0.8,
        "width": 0.8,
        "x": 0.1,
        "y": 0.1
       },
       "content": {
        "cell": "d1aecdcf-3a30-4ca9-b254-d13f216eb4ac",
        "part": "whole"
       },
       "id": "51238077-1982-4e06-9e39-4948a5d245ec"
      }
     }
    },
    "0f7ad0d6-208b-4e7b-af67-652e7f388c01": {
     "id": "0f7ad0d6-208b-4e7b-af67-652e7f388c01",
     "prev": "2fb8256b-f466-408a-859a-c152261f81ee",
     "regions": {
      "06177c21-7f31-4539-8996-fdaadc64bdf6": {
       "attrs": {
        "height": 0.8,
        "width": 0.8,
        "x": 0.1,
        "y": 0.1
       },
       "content": {
        "cell": "d49b30e1-dfd0-49cd-91ad-ff507ee4aecc",
        "part": "whole"
       },
       "id": "06177c21-7f31-4539-8996-fdaadc64bdf6"
      }
     }
    },
    "17b3645f-eb98-4578-981e-6155e53242f9": {
     "id": "17b3645f-eb98-4578-981e-6155e53242f9",
     "prev": null,
     "regions": {
      "325cbca2-e3f5-42cb-b443-de442ec89c41": {
       "attrs": {
        "height": 0.8,
        "width": 0.8,
        "x": 0.1,
        "y": 0.1
       },
       "content": {
        "cell": "69a45e00-ad8d-49b3-92f7-682aa765bca9",
        "part": "whole"
       },
       "id": "325cbca2-e3f5-42cb-b443-de442ec89c41"
      }
     }
    },
    "27e5e9f8-9fc4-4ce5-89e7-0a2c24ef93dd": {
     "id": "27e5e9f8-9fc4-4ce5-89e7-0a2c24ef93dd",
     "prev": "c1f5b9dc-94ca-4a1d-b3d3-3295919685bf",
     "regions": {
      "27176690-e8b1-45b6-b085-d12538e58070": {
       "attrs": {
        "height": 0.8,
        "width": 0.8,
        "x": 0.1,
        "y": 0.1
       },
       "content": {
        "cell": "1a1c2a18-3e62-4f32-bbaa-4207037efcc6",
        "part": "whole"
       },
       "id": "27176690-e8b1-45b6-b085-d12538e58070"
      }
     }
    },
    "2fb8256b-f466-408a-859a-c152261f81ee": {
     "id": "2fb8256b-f466-408a-859a-c152261f81ee",
     "prev": "f68f7dbc-8ddf-4ce0-8524-11f22ddca36c",
     "regions": {
      "95b5b3da-43b2-4acb-9ebc-2ef18c72e67e": {
       "attrs": {
        "height": 0.8,
        "width": 0.8,
        "x": 0.1,
        "y": 0.1
       },
       "content": {
        "cell": "ea4466b0-b6db-4225-a524-1973daad67a0",
        "part": "whole"
       },
       "id": "95b5b3da-43b2-4acb-9ebc-2ef18c72e67e"
      }
     }
    },
    "36fee570-cd02-492f-b54d-01d59001b656": {
     "id": "36fee570-cd02-492f-b54d-01d59001b656",
     "prev": "0f7ad0d6-208b-4e7b-af67-652e7f388c01",
     "regions": {
      "47431af6-12c1-4c9e-adc9-226e3be37256": {
       "attrs": {
        "height": 0.8,
        "width": 0.8,
        "x": 0.1,
        "y": 0.1
       },
       "content": {
        "cell": "47e44fd2-fa8d-4c97-abc6-2e134002f6e1",
        "part": "whole"
       },
       "id": "47431af6-12c1-4c9e-adc9-226e3be37256"
      }
     }
    },
    "51bd331b-844f-4faa-9afd-faa8daea8109": {
     "id": "51bd331b-844f-4faa-9afd-faa8daea8109",
     "prev": "8a98d8a0-180d-491e-b524-15992f04f8d0",
     "regions": {
      "80391e04-f20f-41c4-b050-4080a6bce976": {
       "attrs": {
        "height": 0.8,
        "width": 0.8,
        "x": 0.1,
        "y": 0.1
       },
       "content": {
        "cell": "c9ce9062-9aac-4547-9bbd-8571cd8baf40",
        "part": "whole"
       },
       "id": "80391e04-f20f-41c4-b050-4080a6bce976"
      }
     }
    },
    "5cb531b6-a150-4247-a913-70a2b62f8d69": {
     "id": "5cb531b6-a150-4247-a913-70a2b62f8d69",
     "prev": "dd05eb8d-55ce-4a74-a73c-8c65be7dcf3f",
     "regions": {
      "90bf2ba3-d58c-448d-805d-99cac4555d54": {
       "attrs": {
        "height": 0.8,
        "width": 0.8,
        "x": 0.1,
        "y": 0.1
       },
       "content": {
        "cell": "f97e6182-fb83-45c5-9e31-0887f68d540c",
        "part": "whole"
       },
       "id": "90bf2ba3-d58c-448d-805d-99cac4555d54"
      }
     }
    },
    "5d281ffb-96b2-429e-9490-ece31b3b809b": {
     "id": "5d281ffb-96b2-429e-9490-ece31b3b809b",
     "prev": "27e5e9f8-9fc4-4ce5-89e7-0a2c24ef93dd",
     "regions": {
      "a0424be7-1081-4ba2-8650-029b7fb5b72f": {
       "attrs": {
        "height": 0.8,
        "width": 0.8,
        "x": 0.1,
        "y": 0.1
       },
       "content": {
        "cell": "52c288b3-9124-4056-9bbd-863cd47832a4",
        "part": "whole"
       },
       "id": "a0424be7-1081-4ba2-8650-029b7fb5b72f"
      }
     }
    },
    "62688842-41ca-4e01-aec6-948d7942bb5e": {
     "id": "62688842-41ca-4e01-aec6-948d7942bb5e",
     "prev": "06392584-3672-4abc-a90a-82d2e2eb053e",
     "regions": {
      "0b9fb602-1707-4d83-8d52-51b5b667b196": {
       "attrs": {
        "height": 0.8,
        "width": 0.8,
        "x": 0.1,
        "y": 0.1
       },
       "content": {
        "cell": "1fec1be2-3334-4e51-b69d-bfce6426f41a",
        "part": "whole"
       },
       "id": "0b9fb602-1707-4d83-8d52-51b5b667b196"
      }
     }
    },
    "83c58de8-6e44-44ea-aaef-130ec5863b41": {
     "id": "83c58de8-6e44-44ea-aaef-130ec5863b41",
     "prev": "c9581254-d7d7-4270-8523-a84d98f1bf26",
     "regions": {
      "e0602cda-397d-401f-8711-b79cb718717e": {
       "attrs": {
        "height": 0.8,
        "width": 0.8,
        "x": 0.1,
        "y": 0.1
       },
       "content": {
        "cell": "cc8ee105-3ecc-46f8-b139-34dc4e0cfdef",
        "part": "whole"
       },
       "id": "e0602cda-397d-401f-8711-b79cb718717e"
      }
     }
    },
    "8a98d8a0-180d-491e-b524-15992f04f8d0": {
     "id": "8a98d8a0-180d-491e-b524-15992f04f8d0",
     "prev": "eaf5fd58-5194-46f0-94e1-d0937c0a39f5",
     "regions": {
      "1d7430d0-8ca6-44d8-aaef-e86366f03467": {
       "attrs": {
        "height": 0.8,
        "width": 0.8,
        "x": 0.1,
        "y": 0.1
       },
       "content": {
        "cell": "f692c2b9-4593-4cb5-acb9-d46ba6102a54",
        "part": "whole"
       },
       "id": "1d7430d0-8ca6-44d8-aaef-e86366f03467"
      }
     }
    },
    "96f90a06-07b9-49fd-b32d-2de6627aa5f5": {
     "id": "96f90a06-07b9-49fd-b32d-2de6627aa5f5",
     "prev": "02cbba57-7535-4d66-b450-9d9ae184617b",
     "regions": {
      "096bc85b-c58f-408d-b23f-e0ca56b577e6": {
       "attrs": {
        "height": 0.8,
        "width": 0.8,
        "x": 0.1,
        "y": 0.1
       },
       "content": {
        "cell": "5967c199-f9d8-4ae5-a4cc-0260375ffa80",
        "part": "whole"
       },
       "id": "096bc85b-c58f-408d-b23f-e0ca56b577e6"
      }
     }
    },
    "ad97da80-9c35-4fee-bb8f-88198e14eb7e": {
     "id": "ad97da80-9c35-4fee-bb8f-88198e14eb7e",
     "prev": "62688842-41ca-4e01-aec6-948d7942bb5e",
     "regions": {
      "174da2d8-c695-4bcc-a81d-ef2acfda65d2": {
       "attrs": {
        "height": 0.8,
        "width": 0.8,
        "x": 0.1,
        "y": 0.1
       },
       "content": {
        "cell": "b778e677-f5b3-4747-8861-a8998cc9eda8",
        "part": "whole"
       },
       "id": "174da2d8-c695-4bcc-a81d-ef2acfda65d2"
      }
     }
    },
    "c1f5b9dc-94ca-4a1d-b3d3-3295919685bf": {
     "id": "c1f5b9dc-94ca-4a1d-b3d3-3295919685bf",
     "prev": "5cb531b6-a150-4247-a913-70a2b62f8d69",
     "regions": {
      "10227cec-07b2-4e08-a0f1-76308aa7a81a": {
       "attrs": {
        "height": 0.8,
        "width": 0.8,
        "x": 0.1,
        "y": 0.1
       },
       "content": {
        "cell": "89c2727c-cc5c-426e-9eaf-ce600c5bb2c3",
        "part": "whole"
       },
       "id": "10227cec-07b2-4e08-a0f1-76308aa7a81a"
      }
     }
    },
    "c4e30fb9-53db-493e-b206-b460330cd8b8": {
     "id": "c4e30fb9-53db-493e-b206-b460330cd8b8",
     "prev": "e76bc7f5-0ecd-4108-9e26-9192f842d8fe",
     "regions": {
      "020310d2-fc0e-42fc-b0d1-17006c5fc36e": {
       "attrs": {
        "height": 0.8,
        "width": 0.8,
        "x": 0.1,
        "y": 0.1
       },
       "content": {
        "cell": "392472fa-28cf-4207-9575-75731d17a327",
        "part": "whole"
       },
       "id": "020310d2-fc0e-42fc-b0d1-17006c5fc36e"
      }
     }
    },
    "c9581254-d7d7-4270-8523-a84d98f1bf26": {
     "id": "c9581254-d7d7-4270-8523-a84d98f1bf26",
     "prev": "36fee570-cd02-492f-b54d-01d59001b656",
     "regions": {
      "a2ce4910-368a-45f7-94c0-8f12f9f1a4f2": {
       "attrs": {
        "height": 0.8,
        "width": 0.8,
        "x": 0.1,
        "y": 0.1
       },
       "content": {
        "cell": "61507353-3153-4830-ae66-9c517825d9bb",
        "part": "whole"
       },
       "id": "a2ce4910-368a-45f7-94c0-8f12f9f1a4f2"
      }
     }
    },
    "d3f33afa-7a3f-4904-ae81-9e98a75bcc4a": {
     "id": "d3f33afa-7a3f-4904-ae81-9e98a75bcc4a",
     "prev": "83c58de8-6e44-44ea-aaef-130ec5863b41",
     "regions": {
      "8c760a29-8268-4b61-9b52-cbbe7ca79e1d": {
       "attrs": {
        "height": 0.8,
        "width": 0.8,
        "x": 0.1,
        "y": 0.1
       },
       "content": {
        "cell": "cfd7e110-bb84-43f2-956e-b66f600cf535",
        "part": "whole"
       },
       "id": "8c760a29-8268-4b61-9b52-cbbe7ca79e1d"
      }
     }
    },
    "dd05eb8d-55ce-4a74-a73c-8c65be7dcf3f": {
     "id": "dd05eb8d-55ce-4a74-a73c-8c65be7dcf3f",
     "prev": "f1975bff-d85f-42eb-8ed1-8ce7d139f8c7",
     "regions": {
      "c7389028-dcce-4a30-b7ba-4bb4e1f35a81": {
       "attrs": {
        "height": 0.8,
        "width": 0.8,
        "x": 0.1,
        "y": 0.1
       },
       "content": {
        "cell": "87436fef-18d8-4bdb-950e-e3e4b4784dcb",
        "part": "whole"
       },
       "id": "c7389028-dcce-4a30-b7ba-4bb4e1f35a81"
      }
     }
    },
    "e76bc7f5-0ecd-4108-9e26-9192f842d8fe": {
     "id": "e76bc7f5-0ecd-4108-9e26-9192f842d8fe",
     "prev": "17b3645f-eb98-4578-981e-6155e53242f9",
     "regions": {
      "c83734e0-bfef-4564-bb61-9ecced32c82a": {
       "attrs": {
        "height": 0.8,
        "width": 0.8,
        "x": 0.1,
        "y": 0.1
       },
       "content": {
        "cell": "57907280-cab5-429b-99c9-11141c417a39",
        "part": "whole"
       },
       "id": "c83734e0-bfef-4564-bb61-9ecced32c82a"
      }
     }
    },
    "e7a78249-a455-4b21-9aa5-3203d90602ba": {
     "id": "e7a78249-a455-4b21-9aa5-3203d90602ba",
     "prev": "c4e30fb9-53db-493e-b206-b460330cd8b8",
     "regions": {
      "f9ca3af9-276b-4ad0-92a8-6da4ff031a07": {
       "attrs": {
        "height": 0.8,
        "width": 0.8,
        "x": 0.1,
        "y": 0.1
       },
       "content": {
        "cell": "80fc6b73-5ec5-47b4-baa0-b35c618eb3c8",
        "part": "whole"
       },
       "id": "f9ca3af9-276b-4ad0-92a8-6da4ff031a07"
      }
     }
    },
    "eaf5fd58-5194-46f0-94e1-d0937c0a39f5": {
     "id": "eaf5fd58-5194-46f0-94e1-d0937c0a39f5",
     "prev": "ad97da80-9c35-4fee-bb8f-88198e14eb7e",
     "regions": {
      "2ed337db-54c1-4b4a-9f1d-f045080d44a6": {
       "attrs": {
        "height": 0.8,
        "width": 0.8,
        "x": 0.1,
        "y": 0.1
       },
       "content": {
        "cell": "ee34d693-46f7-40e7-8e8b-b3a34bb730c4",
        "part": "whole"
       },
       "id": "2ed337db-54c1-4b4a-9f1d-f045080d44a6"
      }
     }
    },
    "f1975bff-d85f-42eb-8ed1-8ce7d139f8c7": {
     "id": "f1975bff-d85f-42eb-8ed1-8ce7d139f8c7",
     "prev": "96f90a06-07b9-49fd-b32d-2de6627aa5f5",
     "regions": {
      "87be6550-73a0-458d-ba3e-184628053c20": {
       "attrs": {
        "height": 0.8,
        "width": 0.8,
        "x": 0.1,
        "y": 0.1
       },
       "content": {
        "cell": "dfbbb4d7-ce37-4fd4-a890-d089efb257f2",
        "part": "whole"
       },
       "id": "87be6550-73a0-458d-ba3e-184628053c20"
      }
     }
    },
    "f68f7dbc-8ddf-4ce0-8524-11f22ddca36c": {
     "id": "f68f7dbc-8ddf-4ce0-8524-11f22ddca36c",
     "prev": "5d281ffb-96b2-429e-9490-ece31b3b809b",
     "regions": {
      "fd2bb437-52e8-4433-935d-2eef04b36957": {
       "attrs": {
        "height": 0.8,
        "width": 0.8,
        "x": 0.1,
        "y": 0.1
       },
       "content": {
        "cell": "2c6b7881-b78d-4978-a8dc-a003561ba9dc",
        "part": "whole"
       },
       "id": "fd2bb437-52e8-4433-935d-2eef04b36957"
      }
     }
    }
   },
   "themes": {
    "default": "310e68d5-d52f-4542-8f74-a7150c58a95c",
    "theme": {}
   }
  },
  "widgets": {
   "state": {},
   "version": "1.1.1"
  }
 },
 "nbformat": 4,
 "nbformat_minor": 0
}
