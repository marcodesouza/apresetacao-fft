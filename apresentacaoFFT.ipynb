{
 "cells": [
  {
   "cell_type": "markdown",
   "metadata": {
    "nbpresent": {
     "id": "69a45e00-ad8d-49b3-92f7-682aa765bca9"
    }
   },
   "source": [
    "# Análise de Fourier \n",
    "__Marco Antonio Silveira de Souza__ <br>\n",
    "Universidade Federal de Santa Catarina - UFSC <br>\n",
    "Laboratório de Neuroengenharia Computacional - NeuroLab <br>\n",
    "<br>\n",
    "<br>\n",
    "<br>\n",
    "<br>\n",
    "<br>\n",
    "<br>\n",
    "<img src=\"images/ufsc-logo-3.png\" width=170 height=170/>"
   ]
  },
  {
   "cell_type": "markdown",
   "metadata": {
    "nbpresent": {
     "id": "57907280-cab5-429b-99c9-11141c417a39"
    }
   },
   "source": [
    "## Análise de Fourier\n",
    " - família de técnicas matemáticas: FS, TF, DFT, FFT\n",
    " - baseadas na decomposição de sinais em senóides.\n",
    " - amplamente usado para tratamento de sinais digitalizados.\n",
    " - algumas aplicações\n",
    "   - processmaneto de sinais (audio, rádio fequência)\n",
    "   - tratamento de imagens\n",
    "   - criptografia \n",
    "   - teoria dos números\n",
    " "
   ]
  },
  {
   "cell_type": "markdown",
   "metadata": {
    "nbpresent": {
     "id": "392472fa-28cf-4207-9575-75731d17a327"
    }
   },
   "source": [
    "## Motivação para uso da Análise de Fourier no Neurolab\n",
    "\n",
    "- Análise de séries temporais\n",
    "- Novos desafios\n",
    " "
   ]
  },
  {
   "cell_type": "markdown",
   "metadata": {
    "nbpresent": {
     "id": "80fc6b73-5ec5-47b4-baa0-b35c618eb3c8"
    }
   },
   "source": [
    "## Histórico\n",
    "__Jean-Baptiste Joseph Fourier (1768-1830)__\n",
    "  - O primeiro a estudar sistematicamente o uso de séries para representar funções periódicas <br>\n",
    "  - Hoje levam o nome de _Série de Fourier_<br>\n",
    "  - Nascem de seu trabalho sobre a condução do calor (1807).<br>\n",
    "  - Equação da difusão são representados como séries infinitas de senos e cosenos<br>\n",
    "\n",
    "<img src=\"images/Joseph_Fourier.jpg\" width=170 height=170/>"
   ]
  },
  {
   "cell_type": "markdown",
   "metadata": {
    "nbpresent": {
     "id": "d1aecdcf-3a30-4ca9-b254-d13f216eb4ac"
    }
   },
   "source": [
    "## Definição Serie de Fourier\n",
    "__Ideia geral__<br>\n",
    "representar uma função **periódica** por uma soma de senoides\n",
    "***\n",
    "_Definição Formal_\n",
    "$$ f(x) = a_0+a_1cos(\\omega_0t)+ b_1sen(\\omega_0t)+a_2cos(2\\omega_0t)+b_2sen(2\\omega_0t)+...$$\n",
    "$$ ou $$\n",
    "$$ f(x) = a_0 +\\sum_{k=0}^\\infty [a_kcos(k\\omega_0t) + b_ksen(k\\omega_0t)]$$\n"
   ]
  },
  {
   "cell_type": "markdown",
   "metadata": {
    "nbpresent": {
     "id": "1fec1be2-3334-4e51-b69d-bfce6426f41a"
    }
   },
   "source": [
    "__Exemplo__\n",
    "\n",
    "| ![Alt text](images/ondax1.png \"Onda 1\") | ![Alt text](images/ondax2.png \"Onda 2\") |\n",
    "|---|---|\n",
    "| ![Alt text](images/ondax3.png \"Onda 3\") | ![Alt text](images/ondax4.png \"Onda 4\") |\n",
    "\n",
    "_Onda Resultante_\n",
    "<img src=\"images/ondaresultante.png\" width=400 height=400/>\n",
    "<img src=\"images/Synthesis_square.gif\" width=400 height=400/>\n"
   ]
  },
  {
   "cell_type": "markdown",
   "metadata": {
    "nbpresent": {
     "id": "ee34d693-46f7-40e7-8e8b-b3a34bb730c4"
    }
   },
   "source": [
    "## Dominio do Tempo e Frequência\n",
    " - form alternativa de análise e descrição de um sinal\n",
    " - consequência dos trabalhos de Fourier\n",
    "<img src=\"images/sFFT5.png\" width=700 height=700/>"
   ]
  },
  {
   "cell_type": "markdown",
   "metadata": {
    "nbpresent": {
     "id": "f692c2b9-4593-4cb5-acb9-d46ba6102a54"
    }
   },
   "source": [
    "## Análise de Sinais Não periódicos\n",
    "- Alternativa a Série de Fourier para análise de ondas não periódicas\n"
   ]
  },
  {
   "cell_type": "markdown",
   "metadata": {
    "nbpresent": {
     "id": "c9ce9062-9aac-4547-9bbd-8571cd8baf40"
    }
   },
   "source": [
    "## Análise de Sinais Não periódicos\n",
    "- Alternativa a Série de Fourier para análise de sinais não periódicas\n",
    "- a **Integral de Fourier** é a principal ferramenta para este propósito\n",
    "- truque com período\n",
    "$$ \n",
    "F(\\omega)=\\int_{-\\infty}^\\infty f(t)e^{-i\\omega t} dt \\qquad f(t)=\\frac{1}{2\\pi}\\int_{-\\infty}^\\infty F(\\omega)e^{i\\omega t}d\\omega\n",
    "$$\n",
    "\n",
    "<img src=\"images/sFFT5.png\" width=500 height=500/>"
   ]
  },
  {
   "cell_type": "markdown",
   "metadata": {
    "nbpresent": {
     "id": "b963606e-bc23-4277-b5b1-7b6e6e5cff28"
    }
   },
   "source": [
    "## Transformada Discreta de Fourier (DFT)\n",
    " - Variação da Transformada de Fourier para conjuntos finitos de dados discretos\n",
    "<img src=\"images/amostras.png\" width=600 height=600/> \n"
   ]
  },
  {
   "cell_type": "markdown",
   "metadata": {
    "nbpresent": {
     "id": "5967c199-f9d8-4ae5-a4cc-0260375ffa80"
    }
   },
   "source": [
    "## Problema com a DFT \n",
    " - exigente em termos computacionais\n",
    " <img src=\"images/analiseDFT.png\" width=400 height=400/> "
   ]
  },
  {
   "cell_type": "markdown",
   "metadata": {
    "nbpresent": {
     "id": "dfbbb4d7-ce37-4fd4-a890-d089efb257f2"
    }
   },
   "source": [
    "##  Transformada Rápida de Fourier - Algoritmo FFT\n",
    "- Fast Fourrier Transform, a solução para o problema com a DFT\n",
    "- Algoritmo de Cooley–Tukey (1965)\n",
    " - James Cooley e John Tukey\n",
    "- Top 10 Algorithms of 20th Century by the IEEE journal Computing in Science & Engineering\n",
    "- Força de Mercado\n",
    "- disponível na maioria ds linguagens de programação atuais"
   ]
  },
  {
   "cell_type": "markdown",
   "metadata": {
    "nbpresent": {
     "id": "87436fef-18d8-4bdb-950e-e3e4b4784dcb"
    }
   },
   "source": [
    "## Desempenho FFT x DFT\n",
    " - para 50 amostras a FFT é da ordem de 10x mais rápido do que a DFT padrão\n",
    " - para 1000 amostras é cerca de 100x mais rápida\n",
    " \n",
    "<img src=\"images/analiseDFT2.png\" width=400 height=400/> "
   ]
  },
  {
   "cell_type": "markdown",
   "metadata": {
    "nbpresent": {
     "id": "89c2727c-cc5c-426e-9eaf-ce600c5bb2c3"
    }
   },
   "source": [
    "```python\n",
    "# exemplo de implementação de FFT em Python\n",
    "import matplotlib.pyplot as plt\n",
    "Fs=1000 \n",
    "t=np.arange(0.0, 5.0, 1.0/Fs)\n",
    "PI=np.pi\n",
    "\n",
    "x1=np.sin(2*PI*20*t)\n",
    "x2=2*np.sin(2*PI*60*t)\n",
    "x3=20*np.sin(2*PI*200*t)\n",
    "x4=15*np.sin(2*PI*350*t)\n",
    "\n",
    "x=x1+x2+x3+x4\n",
    "\n",
    "def fftf(x, Fs):\n",
    "   N=len(x) \n",
    "   k=np.arange(0, N-1)\n",
    "   T=N/Fs\n",
    "   freq = k/T\n",
    "   X=np.fft.fftn(x)/N\n",
    "   cutOff=np.ceil(N/2)\n",
    "   X=X[1:int(cutOff)]\n",
    "   plt.plot(freq[1:int(cutOff)],np.abs(X))\n",
    "   plt.title('Espectro de Frequencia')\n",
    "   plt.xlabel('Frequencia (Hz)')\n",
    "   plt.ylabel('Amplitude')\n",
    "   plt.show()\n",
    "\n",
    "# chamada a função\n",
    "fftf(x, Fs)\n",
    "\n",
    "```"
   ]
  },
  {
   "cell_type": "markdown",
   "metadata": {
    "nbpresent": {
     "id": "1a1c2a18-3e62-4f32-bbaa-4207037efcc6"
    }
   },
   "source": [
    "## Exemplo 1 - contínuo no tempo\n",
    "\n",
    "<table  border=\"0\">\n",
    "<tr>\n",
    "    <td> <img src=\"images/ondaresultante.png\" alt=\"Drawing\" style=\"width: 400px;\"/> </td>\n",
    "    <td> <img src=\"images/fft1.png\" alt=\"Drawing\" style=\"width: 400px;\"/> </td>\n",
    "</tr>\n",
    "</table>"
   ]
  },
  {
   "cell_type": "markdown",
   "metadata": {
    "nbpresent": {
     "id": "52c288b3-9124-4056-9bbd-863cd47832a4"
    }
   },
   "source": [
    "## Exemplo 2 - Manchas Solares \n",
    "(implementação em outro slide)\n",
    "##### Série Temporal das Manchas Solares de 1700-2015 e sua Transformada\n",
    "\n",
    "<table  border=\"0\">\n",
    "<tr>\n",
    "    <td> <img src=\"images/serieTemporalManchasSolares.png\" alt=\"Drawing\" style=\"width: 400px;\"/> </td>\n",
    "    <td> <img src=\"images/FFTmanchasSolares.png\" alt=\"Drawing\" style=\"width: 400px;\"/> </td>\n",
    "</tr>\n",
    "</table>\n",
    "\n",
    "O gráfico indica um pico na frequência de aproximdamente 0,09 ciclos/ano, corresponde a 1/0.09 = 11,11 anos confirmando a estimatia de Wolf\n",
    "\n"
   ]
  },
  {
   "cell_type": "markdown",
   "metadata": {
    "nbpresent": {
     "id": "2c6b7881-b78d-4978-a8dc-a003561ba9dc"
    }
   },
   "source": [
    "## Exemplo 3 - Vibração e Ruído\n",
    "<img src=\"images/exemplo3fft.png\" width=350 height=350/>\n"
   ]
  },
  {
   "cell_type": "markdown",
   "metadata": {
    "nbpresent": {
     "id": "ea4466b0-b6db-4225-a524-1973daad67a0"
    }
   },
   "source": [
    "## Exemplo 4 - Sincronização de Neurônios..."
   ]
  },
  {
   "cell_type": "markdown",
   "metadata": {
    "nbpresent": {
     "id": "d49b30e1-dfd0-49cd-91ad-ff507ee4aecc"
    }
   },
   "source": [
    "## Uma solução em Busca de um Problema\n",
    "- O problema: como caracterizar a saida da rede?\n",
    "- Desafios: ajuste de parâmetros aos dados atuais\n",
    "\n",
    "<img src=\"images/analiseNeuronalSYS.png\" width=600 height=600/>"
   ]
  },
  {
   "cell_type": "markdown",
   "metadata": {
    "nbpresent": {
     "id": "47e44fd2-fa8d-4c97-abc6-2e134002f6e1"
    }
   },
   "source": [
    "\n",
    "## FFT aplicado aos dados da Camada II-III\n",
    "\n",
    "<img src=\"images/fftPadrao1.png\" width=600 height=600/>\n"
   ]
  },
  {
   "cell_type": "markdown",
   "metadata": {
    "collapsed": true,
    "nbpresent": {
     "id": "cc8ee105-3ecc-46f8-b139-34dc4e0cfdef"
    }
   },
   "source": [
    "## Fim"
   ]
  },
  {
   "cell_type": "code",
   "execution_count": null,
   "metadata": {
    "collapsed": true,
    "nbpresent": {
     "id": "cfd7e110-bb84-43f2-956e-b66f600cf535"
    }
   },
   "outputs": [],
   "source": []
  }
 ],
 "metadata": {
  "kernelspec": {
   "display_name": "Python [Root]",
   "language": "python",
   "name": "Python [Root]"
  },
  "language_info": {
   "codemirror_mode": {
    "name": "ipython",
    "version": 2
   },
   "file_extension": ".py",
   "mimetype": "text/x-python",
   "name": "python",
   "nbconvert_exporter": "python",
   "pygments_lexer": "ipython2",
   "version": "2.7.12"
  },
  "nbpresent": {
   "slides": {
    "10958be2-c95b-4ae3-b898-be4d775601c4": {
     "id": "10958be2-c95b-4ae3-b898-be4d775601c4",
     "prev": "35d7d28e-e33c-4773-9862-5b6fde41cdaf",
     "regions": {
      "ebc89409-f1d7-45a1-b35c-d75503774e91": {
       "attrs": {
        "height": 0.8,
        "width": 0.8,
        "x": 0.1,
        "y": 0.1
       },
       "content": {
        "cell": "d49b30e1-dfd0-49cd-91ad-ff507ee4aecc",
        "part": "whole"
       },
       "id": "ebc89409-f1d7-45a1-b35c-d75503774e91"
      }
     }
    },
    "1820c35c-264b-4528-9e51-39c45035a7dd": {
     "id": "1820c35c-264b-4528-9e51-39c45035a7dd",
     "prev": "4c04f23f-c6c9-44bc-819e-ae8741407bac",
     "regions": {
      "b2495012-7098-43e5-aa61-cbc1d785559a": {
       "attrs": {
        "height": 0.8,
        "width": 0.8,
        "x": 0.1,
        "y": 0.1
       },
       "content": {
        "cell": "89c2727c-cc5c-426e-9eaf-ce600c5bb2c3",
        "part": "whole"
       },
       "id": "b2495012-7098-43e5-aa61-cbc1d785559a"
      }
     }
    },
    "1bd3a6ea-ec48-44d9-8904-c6c513ffaed9": {
     "id": "1bd3a6ea-ec48-44d9-8904-c6c513ffaed9",
     "prev": "272b5a81-4e47-4a3b-95fc-1ec89e887680",
     "regions": {
      "41f71f50-3af4-4355-a162-356953859a1f": {
       "attrs": {
        "height": 0.8,
        "width": 0.8,
        "x": 0.1,
        "y": 0.1
       },
       "content": {
        "cell": "5967c199-f9d8-4ae5-a4cc-0260375ffa80",
        "part": "whole"
       },
       "id": "41f71f50-3af4-4355-a162-356953859a1f"
      }
     }
    },
    "26ec4892-836a-47a6-b71e-778a59aa2585": {
     "id": "26ec4892-836a-47a6-b71e-778a59aa2585",
     "prev": "359ac869-88c3-4dd5-ad01-21e1ddd78b41",
     "regions": {
      "4e484f33-f1aa-468e-bd5b-922f0f4f577f": {
       "attrs": {
        "height": 0.8,
        "width": 0.8,
        "x": 0.1,
        "y": 0.1
       },
       "content": {
        "cell": "392472fa-28cf-4207-9575-75731d17a327",
        "part": "whole"
       },
       "id": "4e484f33-f1aa-468e-bd5b-922f0f4f577f"
      }
     }
    },
    "272b5a81-4e47-4a3b-95fc-1ec89e887680": {
     "id": "272b5a81-4e47-4a3b-95fc-1ec89e887680",
     "prev": "c60d959a-5bcc-4dd8-a219-3902dcf3ed8f",
     "regions": {
      "d09c9a19-61fd-4c9e-86a1-30ec0e0e1500": {
       "attrs": {
        "height": 0.8,
        "width": 0.8,
        "x": 0.1,
        "y": 0.1
       },
       "content": {
        "cell": "b963606e-bc23-4277-b5b1-7b6e6e5cff28",
        "part": "whole"
       },
       "id": "d09c9a19-61fd-4c9e-86a1-30ec0e0e1500"
      }
     }
    },
    "359ac869-88c3-4dd5-ad01-21e1ddd78b41": {
     "id": "359ac869-88c3-4dd5-ad01-21e1ddd78b41",
     "prev": "7a3b3753-bd2b-4383-a6e0-7909ff8d5698",
     "regions": {
      "aebf4747-e9df-4b27-8fea-3b5f70cc6608": {
       "attrs": {
        "height": 0.8,
        "width": 0.8,
        "x": 0.1,
        "y": 0.1
       },
       "content": {
        "cell": "57907280-cab5-429b-99c9-11141c417a39",
        "part": "whole"
       },
       "id": "aebf4747-e9df-4b27-8fea-3b5f70cc6608"
      }
     }
    },
    "35d7d28e-e33c-4773-9862-5b6fde41cdaf": {
     "id": "35d7d28e-e33c-4773-9862-5b6fde41cdaf",
     "prev": "fbb26180-ffd2-42ed-b872-bd5696bb32f2",
     "regions": {
      "bf587893-2c8c-47e4-8adf-50f96c12fa6d": {
       "attrs": {
        "height": 0.8,
        "width": 0.8,
        "x": 0.1,
        "y": 0.1
       },
       "content": {
        "cell": "ea4466b0-b6db-4225-a524-1973daad67a0",
        "part": "whole"
       },
       "id": "bf587893-2c8c-47e4-8adf-50f96c12fa6d"
      }
     }
    },
    "42ef6840-eefa-4338-aeac-693c2a819435": {
     "id": "42ef6840-eefa-4338-aeac-693c2a819435",
     "prev": "c69829dc-005e-42fd-9f25-56063313a594",
     "regions": {
      "1b2f0aaf-8e3d-4084-9b7f-d7c1633ee128": {
       "attrs": {
        "height": 0.8,
        "width": 0.8,
        "x": 0.1,
        "y": 0.1
       },
       "content": {
        "cell": "52c288b3-9124-4056-9bbd-863cd47832a4",
        "part": "whole"
       },
       "id": "1b2f0aaf-8e3d-4084-9b7f-d7c1633ee128"
      }
     }
    },
    "4637d302-6c55-49b1-9908-181fe127f03d": {
     "id": "4637d302-6c55-49b1-9908-181fe127f03d",
     "prev": "6e553d6d-a320-4776-8658-29fb787a2dbc",
     "regions": {
      "876dced2-3e94-45ef-84de-89dade4657ad": {
       "attrs": {
        "height": 0.8,
        "width": 0.8,
        "x": 0.1,
        "y": 0.1
       },
       "content": {
        "cell": "f692c2b9-4593-4cb5-acb9-d46ba6102a54",
        "part": "whole"
       },
       "id": "876dced2-3e94-45ef-84de-89dade4657ad"
      }
     }
    },
    "4c04f23f-c6c9-44bc-819e-ae8741407bac": {
     "id": "4c04f23f-c6c9-44bc-819e-ae8741407bac",
     "prev": "53bff121-bb54-4a4a-a9e0-c469485577ad",
     "regions": {
      "2e11c008-0e2b-4259-89f9-557eea064739": {
       "attrs": {
        "height": 0.8,
        "width": 0.8,
        "x": 0.1,
        "y": 0.1
       },
       "content": {
        "cell": "87436fef-18d8-4bdb-950e-e3e4b4784dcb",
        "part": "whole"
       },
       "id": "2e11c008-0e2b-4259-89f9-557eea064739"
      }
     }
    },
    "53bff121-bb54-4a4a-a9e0-c469485577ad": {
     "id": "53bff121-bb54-4a4a-a9e0-c469485577ad",
     "prev": "1bd3a6ea-ec48-44d9-8904-c6c513ffaed9",
     "regions": {
      "69ff4b45-91a5-4285-995e-0febb7ecefa6": {
       "attrs": {
        "height": 0.8,
        "width": 0.8,
        "x": 0.1,
        "y": 0.1
       },
       "content": {
        "cell": "dfbbb4d7-ce37-4fd4-a890-d089efb257f2",
        "part": "whole"
       },
       "id": "69ff4b45-91a5-4285-995e-0febb7ecefa6"
      }
     }
    },
    "6136d78e-753f-4d14-aa4b-23f80e75dc1e": {
     "id": "6136d78e-753f-4d14-aa4b-23f80e75dc1e",
     "prev": "f854eda8-b484-428b-9a54-80a4176b1e5c",
     "regions": {
      "feafd95e-69b7-4902-892a-fb32fce763a7": {
       "attrs": {
        "height": 0.8,
        "width": 0.8,
        "x": 0.1,
        "y": 0.1
       },
       "content": {
        "cell": "d1aecdcf-3a30-4ca9-b254-d13f216eb4ac",
        "part": "whole"
       },
       "id": "feafd95e-69b7-4902-892a-fb32fce763a7"
      }
     }
    },
    "6e553d6d-a320-4776-8658-29fb787a2dbc": {
     "id": "6e553d6d-a320-4776-8658-29fb787a2dbc",
     "prev": "cefe6c90-8d7e-4923-a67f-cbd3226a0649",
     "regions": {
      "f1d19f16-70aa-43d8-a607-25b2c42b826e": {
       "attrs": {
        "height": 0.8,
        "width": 0.8,
        "x": 0.1,
        "y": 0.1
       },
       "content": {
        "cell": "ee34d693-46f7-40e7-8e8b-b3a34bb730c4",
        "part": "whole"
       },
       "id": "f1d19f16-70aa-43d8-a607-25b2c42b826e"
      }
     }
    },
    "7a3b3753-bd2b-4383-a6e0-7909ff8d5698": {
     "id": "7a3b3753-bd2b-4383-a6e0-7909ff8d5698",
     "prev": null,
     "regions": {
      "9ade7e0c-b8c5-4e33-9484-7232d3ff879f": {
       "attrs": {
        "height": 0.8,
        "width": 0.8,
        "x": 0.1,
        "y": 0.1
       },
       "content": {
        "cell": "69a45e00-ad8d-49b3-92f7-682aa765bca9",
        "part": "whole"
       },
       "id": "9ade7e0c-b8c5-4e33-9484-7232d3ff879f"
      }
     }
    },
    "9a2c6e0a-6013-46db-9103-35a6c5fb4d1d": {
     "id": "9a2c6e0a-6013-46db-9103-35a6c5fb4d1d",
     "prev": "c4c05074-3b16-4c91-9c39-4bf6d3f6bddc",
     "regions": {
      "af4a319c-575b-435d-9d43-1d2dce3a124f": {
       "attrs": {
        "height": 0.8,
        "width": 0.8,
        "x": 0.1,
        "y": 0.1
       },
       "content": {
        "cell": "cc8ee105-3ecc-46f8-b139-34dc4e0cfdef",
        "part": "whole"
       },
       "id": "af4a319c-575b-435d-9d43-1d2dce3a124f"
      }
     }
    },
    "c4c05074-3b16-4c91-9c39-4bf6d3f6bddc": {
     "id": "c4c05074-3b16-4c91-9c39-4bf6d3f6bddc",
     "prev": "10958be2-c95b-4ae3-b898-be4d775601c4",
     "regions": {
      "13a9452d-6b25-425a-a25d-f767f9ff323f": {
       "attrs": {
        "height": 0.8,
        "width": 0.8,
        "x": 0.1,
        "y": 0.1
       },
       "content": {
        "cell": "47e44fd2-fa8d-4c97-abc6-2e134002f6e1",
        "part": "whole"
       },
       "id": "13a9452d-6b25-425a-a25d-f767f9ff323f"
      }
     }
    },
    "c60d959a-5bcc-4dd8-a219-3902dcf3ed8f": {
     "id": "c60d959a-5bcc-4dd8-a219-3902dcf3ed8f",
     "prev": "4637d302-6c55-49b1-9908-181fe127f03d",
     "regions": {
      "0674189d-ceba-449e-bee3-faf8e009b8b7": {
       "attrs": {
        "height": 0.8,
        "width": 0.8,
        "x": 0.1,
        "y": 0.1
       },
       "content": {
        "cell": "c9ce9062-9aac-4547-9bbd-8571cd8baf40",
        "part": "whole"
       },
       "id": "0674189d-ceba-449e-bee3-faf8e009b8b7"
      }
     }
    },
    "c69829dc-005e-42fd-9f25-56063313a594": {
     "id": "c69829dc-005e-42fd-9f25-56063313a594",
     "prev": "1820c35c-264b-4528-9e51-39c45035a7dd",
     "regions": {
      "b130577a-9c48-4bff-860a-c937a2668d24": {
       "attrs": {
        "height": 0.8,
        "width": 0.8,
        "x": 0.1,
        "y": 0.1
       },
       "content": {
        "cell": "1a1c2a18-3e62-4f32-bbaa-4207037efcc6",
        "part": "whole"
       },
       "id": "b130577a-9c48-4bff-860a-c937a2668d24"
      }
     }
    },
    "cefe6c90-8d7e-4923-a67f-cbd3226a0649": {
     "id": "cefe6c90-8d7e-4923-a67f-cbd3226a0649",
     "prev": "6136d78e-753f-4d14-aa4b-23f80e75dc1e",
     "regions": {
      "c0ba7b52-3587-4b9c-89e6-c789b1bcf0e0": {
       "attrs": {
        "height": 0.8,
        "width": 0.8,
        "x": 0.1,
        "y": 0.1
       },
       "content": {
        "cell": "1fec1be2-3334-4e51-b69d-bfce6426f41a",
        "part": "whole"
       },
       "id": "c0ba7b52-3587-4b9c-89e6-c789b1bcf0e0"
      }
     }
    },
    "e04ebdc0-8330-4008-81f6-4ea313779ff1": {
     "id": "e04ebdc0-8330-4008-81f6-4ea313779ff1",
     "prev": "9a2c6e0a-6013-46db-9103-35a6c5fb4d1d",
     "regions": {
      "c9e7fa00-9035-4bda-8700-e2706b27af06": {
       "attrs": {
        "height": 0.8,
        "width": 0.8,
        "x": 0.1,
        "y": 0.1
       },
       "content": {
        "cell": "cfd7e110-bb84-43f2-956e-b66f600cf535",
        "part": "whole"
       },
       "id": "c9e7fa00-9035-4bda-8700-e2706b27af06"
      }
     }
    },
    "f854eda8-b484-428b-9a54-80a4176b1e5c": {
     "id": "f854eda8-b484-428b-9a54-80a4176b1e5c",
     "prev": "26ec4892-836a-47a6-b71e-778a59aa2585",
     "regions": {
      "99c60e4b-bc7a-4f57-8bd4-d75255c6b0d2": {
       "attrs": {
        "height": 0.8,
        "width": 0.8,
        "x": 0.1,
        "y": 0.1
       },
       "content": {
        "cell": "80fc6b73-5ec5-47b4-baa0-b35c618eb3c8",
        "part": "whole"
       },
       "id": "99c60e4b-bc7a-4f57-8bd4-d75255c6b0d2"
      }
     }
    },
    "fbb26180-ffd2-42ed-b872-bd5696bb32f2": {
     "id": "fbb26180-ffd2-42ed-b872-bd5696bb32f2",
     "prev": "42ef6840-eefa-4338-aeac-693c2a819435",
     "regions": {
      "80701b5c-9bf4-47d5-acdc-57a509ecc9b8": {
       "attrs": {
        "height": 0.8,
        "width": 0.8,
        "x": 0.1,
        "y": 0.1
       },
       "content": {
        "cell": "2c6b7881-b78d-4978-a8dc-a003561ba9dc",
        "part": "whole"
       },
       "id": "80701b5c-9bf4-47d5-acdc-57a509ecc9b8"
      }
     }
    }
   },
   "themes": {
    "default": "e3dfff74-e7de-4c03-88a5-61a145f64da8",
    "theme": {
     "e3dfff74-e7de-4c03-88a5-61a145f64da8": {
      "id": "e3dfff74-e7de-4c03-88a5-61a145f64da8",
      "palette": {
       "19cc588f-0593-49c9-9f4b-e4d7cc113b1c": {
        "id": "19cc588f-0593-49c9-9f4b-e4d7cc113b1c",
        "rgb": [
         252,
         252,
         252
        ]
       },
       "31af15d2-7e15-44c5-ab5e-e04b16a89eff": {
        "id": "31af15d2-7e15-44c5-ab5e-e04b16a89eff",
        "rgb": [
         68,
         68,
         68
        ]
       },
       "50f92c45-a630-455b-aec3-788680ec7410": {
        "id": "50f92c45-a630-455b-aec3-788680ec7410",
        "rgb": [
         155,
         177,
         192
        ]
       },
       "c5cc3653-2ee1-402a-aba2-7caae1da4f6c": {
        "id": "c5cc3653-2ee1-402a-aba2-7caae1da4f6c",
        "rgb": [
         43,
         126,
         184
        ]
       },
       "efa7f048-9acb-414c-8b04-a26811511a21": {
        "id": "efa7f048-9acb-414c-8b04-a26811511a21",
        "rgb": [
         25.118061674008803,
         73.60176211453744,
         107.4819383259912
        ]
       }
      },
      "rules": {
       "blockquote": {
        "color": "50f92c45-a630-455b-aec3-788680ec7410"
       },
       "code": {
        "font-family": "Anonymous Pro"
       },
       "h1": {
        "color": "c5cc3653-2ee1-402a-aba2-7caae1da4f6c",
        "font-family": "Lato",
        "font-size": 8
       },
       "h2": {
        "color": "c5cc3653-2ee1-402a-aba2-7caae1da4f6c",
        "font-family": "Lato",
        "font-size": 6
       },
       "h3": {
        "color": "50f92c45-a630-455b-aec3-788680ec7410",
        "font-family": "Lato",
        "font-size": 5.5
       },
       "h4": {
        "color": "c5cc3653-2ee1-402a-aba2-7caae1da4f6c",
        "font-family": "Lato",
        "font-size": 5
       },
       "h5": {
        "font-family": "Lato"
       },
       "h6": {
        "font-family": "Lato"
       },
       "h7": {
        "font-family": "Lato"
       },
       "pre": {
        "font-family": "Anonymous Pro",
        "font-size": 4
       }
      },
      "text-base": {
       "font-family": "Merriweather",
       "font-size": 4
      }
     }
    }
   }
  },
  "widgets": {
   "state": {},
   "version": "1.1.1"
  }
 },
 "nbformat": 4,
 "nbformat_minor": 0
}
